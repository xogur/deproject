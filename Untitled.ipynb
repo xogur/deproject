{
 "cells": [
  {
   "cell_type": "code",
   "execution_count": 43,
   "id": "2b5c4f1b-9ebf-4c85-9bd2-3c321b259659",
   "metadata": {},
   "outputs": [],
   "source": [
    "import requests\n",
    "import re, json\n",
    "from bs4 import BeautifulSoup\n",
    "import pandas as pd\n",
    "from selenium import webdriver\n",
    "from selenium.webdriver.common.keys import Keys\n",
    "from selenium.webdriver.common.by import By\n",
    "import pyperclip\n",
    "import time\n",
    "import requests\n",
    "import json,re\n",
    "import base64"
   ]
  },
  {
   "cell_type": "code",
   "execution_count": null,
   "id": "96003132-e1fa-433b-9ed7-cdc94a9dd225",
   "metadata": {},
   "outputs": [],
   "source": [
    "캐주얼 = 8\n",
    "미니멀 = 5"
   ]
  },
  {
   "cell_type": "code",
   "execution_count": 3,
   "id": "8a750aa6-3880-40aa-b93c-438ab866905c",
   "metadata": {},
   "outputs": [],
   "source": [
    "import requests\n",
    "\n",
    "cookies = {\n",
    "    '_gf': 'A',\n",
    "    'tr[vid]': '67dcc9ed80d478.78189875',\n",
    "    'tr[vd]': '1742522861',\n",
    "    '_ga': 'GA1.1.2014950775.1742522862',\n",
    "    '_gcl_au': '1.1.1173424347.1742522862',\n",
    "    '_kmpid': 'km|musinsa.com|1742522862391|8bed8223-fe1b-4702-a9ff-df8d0ca43824',\n",
    "    '_fbp': 'fb.1.1742522862889.61970195871643448',\n",
    "    '_fwb': '1557zuEgyrlkclzlKZTqlUc.1742522862899',\n",
    "    '_pin_unauth': 'dWlkPU9UWTRaVFZtWXpJdE5XVmlPQzAwWW1WakxXSXpNVFl0TlRGalkyVXhOekV6T0dJNQ',\n",
    "    '_hjSessionUser_1491926': 'eyJpZCI6IjM4YmQ2OThkLTMyY2MtNTIxNi1hOWNmLTFmN2MzN2E4ZTI0NiIsImNyZWF0ZWQiOjE3NDI1MjI4NjI5MTcsImV4aXN0aW5nIjp0cnVlfQ==',\n",
    "    '_tt_enable_cookie': '1',\n",
    "    '_ttp': '01JPV7AKAA8M0D5JH5FH4N16B3_.tt.1',\n",
    "    'cart_no': 'x4cYG0jKxoPy11Hca%2F4hvNL%2FJlQrtTNAe1nKIT3RZlY%3D',\n",
    "    '_hjSession_1491926': 'eyJpZCI6IjRlODg4NDg4LTA5MjEtNGZiZS04NmRiLWRmYWNlMTkyNDVmNSIsImMiOjE3NDM1OTUwNzA3MzEsInMiOjAsInIiOjAsInNiIjowLCJzciI6MCwic2UiOjAsImZzIjowLCJzcCI6MH0=',\n",
    "    'ab.storage.deviceId.1773491f-ef03-4901-baf8-dbf84e1de25b': '%7B%22g%22%3A%229fa9d012-1d4c-a302-ef6e-7adb457cf56e%22%2C%22c%22%3A1742522895703%2C%22l%22%3A1743596015889%7D',\n",
    "    'snap_interest': 'd86886a5-26eb-4d80-9393-d85a80de4666',\n",
    "    'ab.storage.sessionId.1773491f-ef03-4901-baf8-dbf84e1de25b': '%7B%22g%22%3A%22da9b78ff-b445-ac2c-37b1-9eb2b76e7e69%22%2C%22e%22%3A1743597831729%2C%22c%22%3A1743596015888%2C%22l%22%3A1743596031729%7D',\n",
    "    'tr[vt]': '1743596273',\n",
    "    'tr[vc]': '2',\n",
    "    'tr[pv]': '2',\n",
    "    'cto_bundle': 'NR4Rp19DWXB3OTN4bXRnSmJmOW5GNmozRGRTSnN3dkxhN0dNZ1E0JTJGYmlLQTVLOE43UHY1MGhmc1FDUG9kc3RFa3olMkJBN2FlVHVScTJtb0hocDF6SyUyRnRDZnM0c1ZTc0d3OHlLa1RNNWpsZmdaNklKZGVaR21RYktYYWVIOFNOaGs0RDFUSnJ4V2lrbG1JcHVJN0ZZelB6YzNFQ0ElM0QlM0Q',\n",
    "    'AMP_74a056ea4a': 'JTdCJTIyZGV2aWNlSWQlMjIlM0ElMjIyMjNkZmIxNC1hNGVhLTRlNmQtYjY3ZS02YzhjODAzYWFlMGElMjIlMkMlMjJzZXNzaW9uSWQlMjIlM0ExNzQzNTk1ODE1MjMxJTJDJTIyb3B0T3V0JTIyJTNBZmFsc2UlN0Q=',\n",
    "    '_ga_8PEGV51YTJ': 'GS1.1.1743595069.4.1.1743596397.48.0.0',\n",
    "    'AMP_TLDTEST': 'MQ==',\n",
    "}\n",
    "\n",
    "headers = {\n",
    "    'accept': 'application/json',\n",
    "    'accept-language': 'ko-KR,ko;q=0.9,en-US;q=0.8,en;q=0.7',\n",
    "    'authorization': 'Bearer null',\n",
    "    'origin': 'https://www.musinsa.com',\n",
    "    'priority': 'u=1, i',\n",
    "    'referer': 'https://www.musinsa.com/',\n",
    "    'sec-ch-ua': '\"Chromium\";v=\"134\", \"Not:A-Brand\";v=\"24\", \"Google Chrome\";v=\"134\"',\n",
    "    'sec-ch-ua-mobile': '?0',\n",
    "    'sec-ch-ua-platform': '\"Windows\"',\n",
    "    'sec-fetch-dest': 'empty',\n",
    "    'sec-fetch-mode': 'cors',\n",
    "    'sec-fetch-site': 'same-site',\n",
    "    'user-agent': 'Mozilla/5.0 (Windows NT 10.0; Win64; x64) AppleWebKit/537.36 (KHTML, like Gecko) Chrome/134.0.0.0 Safari/537.36',\n",
    "    # 'cookie': '_gf=A; tr[vid]=67dcc9ed80d478.78189875; tr[vd]=1742522861; _ga=GA1.1.2014950775.1742522862; _gcl_au=1.1.1173424347.1742522862; _kmpid=km|musinsa.com|1742522862391|8bed8223-fe1b-4702-a9ff-df8d0ca43824; _fbp=fb.1.1742522862889.61970195871643448; _fwb=1557zuEgyrlkclzlKZTqlUc.1742522862899; _pin_unauth=dWlkPU9UWTRaVFZtWXpJdE5XVmlPQzAwWW1WakxXSXpNVFl0TlRGalkyVXhOekV6T0dJNQ; _hjSessionUser_1491926=eyJpZCI6IjM4YmQ2OThkLTMyY2MtNTIxNi1hOWNmLTFmN2MzN2E4ZTI0NiIsImNyZWF0ZWQiOjE3NDI1MjI4NjI5MTcsImV4aXN0aW5nIjp0cnVlfQ==; _tt_enable_cookie=1; _ttp=01JPV7AKAA8M0D5JH5FH4N16B3_.tt.1; cart_no=x4cYG0jKxoPy11Hca%2F4hvNL%2FJlQrtTNAe1nKIT3RZlY%3D; _hjSession_1491926=eyJpZCI6IjRlODg4NDg4LTA5MjEtNGZiZS04NmRiLWRmYWNlMTkyNDVmNSIsImMiOjE3NDM1OTUwNzA3MzEsInMiOjAsInIiOjAsInNiIjowLCJzciI6MCwic2UiOjAsImZzIjowLCJzcCI6MH0=; ab.storage.deviceId.1773491f-ef03-4901-baf8-dbf84e1de25b=%7B%22g%22%3A%229fa9d012-1d4c-a302-ef6e-7adb457cf56e%22%2C%22c%22%3A1742522895703%2C%22l%22%3A1743596015889%7D; snap_interest=d86886a5-26eb-4d80-9393-d85a80de4666; ab.storage.sessionId.1773491f-ef03-4901-baf8-dbf84e1de25b=%7B%22g%22%3A%22da9b78ff-b445-ac2c-37b1-9eb2b76e7e69%22%2C%22e%22%3A1743597831729%2C%22c%22%3A1743596015888%2C%22l%22%3A1743596031729%7D; tr[vt]=1743596273; tr[vc]=2; tr[pv]=2; cto_bundle=NR4Rp19DWXB3OTN4bXRnSmJmOW5GNmozRGRTSnN3dkxhN0dNZ1E0JTJGYmlLQTVLOE43UHY1MGhmc1FDUG9kc3RFa3olMkJBN2FlVHVScTJtb0hocDF6SyUyRnRDZnM0c1ZTc0d3OHlLa1RNNWpsZmdaNklKZGVaR21RYktYYWVIOFNOaGs0RDFUSnJ4V2lrbG1JcHVJN0ZZelB6YzNFQ0ElM0QlM0Q; AMP_74a056ea4a=JTdCJTIyZGV2aWNlSWQlMjIlM0ElMjIyMjNkZmIxNC1hNGVhLTRlNmQtYjY3ZS02YzhjODAzYWFlMGElMjIlMkMlMjJzZXNzaW9uSWQlMjIlM0ExNzQzNTk1ODE1MjMxJTJDJTIyb3B0T3V0JTIyJTNBZmFsc2UlN0Q=; _ga_8PEGV51YTJ=GS1.1.1743595069.4.1.1743596397.48.0.0; AMP_TLDTEST=MQ==',\n",
    "}\n",
    "\n",
    "params = {\n",
    "    'formatTypes': 'POST,SHORTS',\n",
    "    'bodyHeightRange': '',\n",
    "    'bodyWeightRange': '',\n",
    "    'brands': '',\n",
    "    'contentTypes': '',\n",
    "    'genders': 'MEN',\n",
    "    'goodsCategories': '',\n",
    "    'seasonLabels': '4',\n",
    "    'sort': 'POPULAR',\n",
    "    'styleLabels': '5',\n",
    "    'tpoLabels': '',\n",
    "    'page': '1',\n",
    "    'size': '24',\n",
    "    'excludedSnapIds': '',\n",
    "}\n",
    "\n",
    "res = requests.get(\n",
    "    'https://content.musinsa.com/api2/content/snap/ui/v2/modules/discovery/sections',\n",
    "    params=params,\n",
    "    cookies=cookies,\n",
    "    headers=headers,\n",
    ")"
   ]
  },
  {
   "cell_type": "code",
   "execution_count": 32,
   "id": "a9fd3b2d-1a46-4810-a4b2-2b7f1599b20d",
   "metadata": {},
   "outputs": [
    {
     "data": {
      "text/plain": [
       "24"
      ]
     },
     "execution_count": 32,
     "metadata": {},
     "output_type": "execute_result"
    }
   ],
   "source": [
    "len(json.loads(res.text)['data']['list'][0]['contents'])"
   ]
  },
  {
   "cell_type": "code",
   "execution_count": 35,
   "id": "9733b323-2402-491a-aceb-6d1d319aedcd",
   "metadata": {},
   "outputs": [
    {
     "data": {
      "text/plain": [
       "[{'id': '1356706777270127772',\n",
       "  'type': 'IMAGE',\n",
       "  'path': 'https://image.msscdn.net/thumbnails/snap/images/2025/04/02/69dc91d98c564c8d887764682088c935.jpg'},\n",
       " {'id': '1356706777270127773',\n",
       "  'type': 'IMAGE',\n",
       "  'path': 'https://image.msscdn.net/thumbnails/snap/images/2025/04/02/387e6616889645efbd4a81f95d4a6f13.jpg'},\n",
       " {'id': '1356706777270127774',\n",
       "  'type': 'IMAGE',\n",
       "  'path': 'https://image.msscdn.net/thumbnails/snap/images/2025/04/02/67495e3eea3a4f439f809b99d9797aa6.jpg'},\n",
       " {'id': '1356706777270127775',\n",
       "  'type': 'IMAGE',\n",
       "  'path': 'https://image.msscdn.net/thumbnails/snap/images/2025/04/02/62e5bf85656f47789587bb3a77e52139.jpg'}]"
      ]
     },
     "execution_count": 35,
     "metadata": {},
     "output_type": "execute_result"
    }
   ],
   "source": [
    "json.loads(res.text)['data']['list'][0]['contents'][0]['medias']"
   ]
  },
  {
   "cell_type": "code",
   "execution_count": null,
   "id": "800167bd-88c2-4ce9-8b3e-48b44c0232f6",
   "metadata": {},
   "outputs": [],
   "source": [
    "for i in range(len(json.loads(res.text)['data']['list'][0]['contents'])) :\n",
    "    datas = json.loads(res.text)['data']['list'][0]['contents'][i]['medias']\n",
    "    for data in datas :\n",
    "        url = data['path']\n",
    "        snap_id = data['id']\n",
    "        product_url = \"https://www.musinsa.com/snap/{}\".format(snap_id)\n",
    "        sub_res = requests.get(product_url)\n",
    "        "
   ]
  }
 ],
 "metadata": {
  "kernelspec": {
   "display_name": "Python 3",
   "language": "python",
   "name": "python3"
  },
  "language_info": {
   "codemirror_mode": {
    "name": "ipython",
    "version": 3
   },
   "file_extension": ".py",
   "mimetype": "text/x-python",
   "name": "python",
   "nbconvert_exporter": "python",
   "pygments_lexer": "ipython3",
   "version": "3.12.9"
  }
 },
 "nbformat": 4,
 "nbformat_minor": 5
}
